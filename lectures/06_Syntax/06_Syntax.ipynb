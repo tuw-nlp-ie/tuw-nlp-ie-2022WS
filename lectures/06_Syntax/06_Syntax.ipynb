{
 "cells": [
  {
   "cell_type": "markdown",
   "metadata": {
    "cell_style": "center",
    "slideshow": {
     "slide_type": "slide"
    }
   },
   "source": [
    "# Syntax\n",
    "\n",
    "### Natural Language Processing and Information Extraction,  2022 WS\n",
    "Lecture 6, 11/18/2022\n",
    "\n",
    "Gábor Recski"
   ]
  },
  {
   "cell_type": "markdown",
   "metadata": {
    "slideshow": {
     "slide_type": "fragment"
    }
   },
   "source": [
    "This material can be downloaded from [https://github.com/tuw-nlp-ie/tuw-nlp-ie-2022WS](https://github.com/tuw-nlp-ie/tuw-nlp-ie-2022WS)"
   ]
  },
  {
   "cell_type": "markdown",
   "metadata": {
    "slideshow": {
     "slide_type": "slide"
    }
   },
   "source": [
    "## Topics and SLP3 chapters\n",
    "\n",
    "- Parts-of-speech [8.1-8.4](https://web.stanford.edu/~jurafsky/slp3/8.pdf)\n",
    "\n",
    "- Constituency [12.1-12.3](https://web.stanford.edu/~jurafsky/slp3/12.pdf), [13.1-13.3](https://web.stanford.edu/~jurafsky/slp3/13.pdf)\n",
    "\n",
    "- Dependency [14.1](https://web.stanford.edu/~jurafsky/slp3/14.pdf)"
   ]
  },
  {
   "cell_type": "markdown",
   "metadata": {
    "slideshow": {
     "slide_type": "slide"
    }
   },
   "source": [
    "## Dependencies\n",
    "\n",
    "To run this notebook, you will need to install the **stanza** and **spacy** python packages.\n",
    "\n",
    "Make sure to restart the kernel afterwards.\n",
    "\n",
    "Then you can use the cells below to download and initialize the necessary models."
   ]
  },
  {
   "cell_type": "markdown",
   "metadata": {
    "slideshow": {
     "slide_type": "slide"
    }
   },
   "source": [
    "### Download models, initialize pipelines"
   ]
  },
  {
   "cell_type": "code",
   "execution_count": null,
   "metadata": {
    "slideshow": {
     "slide_type": "fragment"
    }
   },
   "outputs": [],
   "source": [
    "import stanza\n",
    "stanza.download('en')\n",
    "stanza_nlp = stanza.Pipeline(lang='en', logging_level='WARNING')"
   ]
  },
  {
   "cell_type": "code",
   "execution_count": null,
   "metadata": {
    "slideshow": {
     "slide_type": "fragment"
    }
   },
   "outputs": [],
   "source": [
    "import spacy\n",
    "from spacy.cli import download as spacy_download\n",
    "spacy_download('en_core_web_sm')\n",
    "spacy_nlp = spacy.load(\"en_core_web_sm\")"
   ]
  },
  {
   "cell_type": "code",
   "execution_count": null,
   "metadata": {
    "slideshow": {
     "slide_type": "fragment"
    }
   },
   "outputs": [],
   "source": [
    "import stanza\n",
    "stanza.download('en')"
   ]
  },
  {
   "cell_type": "markdown",
   "metadata": {
    "slideshow": {
     "slide_type": "slide"
    }
   },
   "source": [
    "## Recap"
   ]
  },
  {
   "cell_type": "markdown",
   "metadata": {
    "slideshow": {
     "slide_type": "fragment"
    }
   },
   "source": [
    "### Tokenization, lemmatization, decompounding"
   ]
  },
  {
   "cell_type": "code",
   "execution_count": null,
   "metadata": {
    "slideshow": {
     "slide_type": "fragment"
    }
   },
   "outputs": [],
   "source": [
    "doc = stanza_nlp(\"Did you get me those muffins?\")\n",
    "print(\"\\n\".join([f\"{word.text:<8}\\t{word.lemma}\" for word in doc.sentences[0].words]))"
   ]
  },
  {
   "cell_type": "markdown",
   "metadata": {
    "slideshow": {
     "slide_type": "fragment"
    }
   },
   "source": [
    "### What's next?"
   ]
  },
  {
   "cell_type": "markdown",
   "metadata": {
    "slideshow": {
     "slide_type": "slide"
    }
   },
   "source": [
    "\n",
    "```\n",
    "Twas brillig, and the slithy toves\n",
    "Did gyre and gimble in the wabe;\n",
    "All mimsy were the borogoves,\n",
    "And the mome raths outgrabe.\n",
    "```\n",
    "(Lewis Carroll: [Jabberwocky](https://en.wikipedia.org/wiki/Jabberwocky))\n",
    "\n",
    "<br>\n",
    "<br>\n",
    "<br>\n",
    "<br>\n",
    "<br>\n",
    "<br>"
   ]
  },
  {
   "cell_type": "markdown",
   "metadata": {
    "slideshow": {
     "slide_type": "fragment"
    }
   },
   "source": [
    "```\n",
    "Es brillig war. Die schlichten Toven\n",
    "Wirrten und wimmelten in Waben;\n",
    "Und aller-mümsige Burggoven\n",
    "Die mohmen Räth' ausgraben.\n",
    "```\n",
    "(Translated by Robert Scott)\n",
    "<br>\n",
    "<br>\n",
    "<br>\n",
    "<br>\n",
    "<br>\n",
    "<br>"
   ]
  },
  {
   "cell_type": "markdown",
   "metadata": {
    "slideshow": {
     "slide_type": "fragment"
    }
   },
   "source": [
    "They don't make much sense, but how come they make any?"
   ]
  },
  {
   "cell_type": "markdown",
   "metadata": {
    "slideshow": {
     "slide_type": "slide"
    }
   },
   "source": [
    "## Part-of-speech (POS)"
   ]
  },
  {
   "cell_type": "code",
   "execution_count": null,
   "metadata": {
    "slideshow": {
     "slide_type": "fragment"
    }
   },
   "outputs": [],
   "source": [
    "print(\"\\n\".join([f\"{word.text:<8}\\t{word.pos}\" for word in doc.sentences[0].words]))"
   ]
  },
  {
   "cell_type": "code",
   "execution_count": null,
   "metadata": {
    "slideshow": {
     "slide_type": "fragment"
    }
   },
   "outputs": [],
   "source": [
    "print(\"\\n\".join([f\"{word.text:<8}\\t{word.xpos}\" for word in doc.sentences[0].words]))"
   ]
  },
  {
   "cell_type": "markdown",
   "metadata": {
    "slideshow": {
     "slide_type": "slide"
    }
   },
   "source": [
    "### POS-tags are morphosyntactic categories"
   ]
  },
  {
   "cell_type": "markdown",
   "metadata": {
    "slideshow": {
     "slide_type": "fragment"
    }
   },
   "source": [
    "| Word | [UPOS](https://universaldependencies.org/u/pos/) |  | [PTB](https://www.ling.upenn.edu/courses/Fall_2003/ling001/penn_treebank_pos.html) | |\n",
    "| :--- | :--- | :--- | :--- | :--- |\n",
    "| Did | AUX | auxiliary | VBD | verb, past tense |\n",
    "| you | PRON | pronoun | PRP | personal pronoun |\n",
    "| get | VERB | verb | VB | verb, base form |\n",
    "| me | PRON | pronoun | PRP | personal pronoun |\n",
    "| those | DET | determiner | DT | determiner |\n",
    "| muffins | NOUN | noun | NNS | noun, plural |\n",
    "| ? | PUNCT | punctuation | . | punctuation |"
   ]
  },
  {
   "cell_type": "markdown",
   "metadata": {
    "slideshow": {
     "slide_type": "slide"
    }
   },
   "source": [
    "There's always more morphosyntactic features to consider:"
   ]
  },
  {
   "cell_type": "code",
   "execution_count": null,
   "metadata": {
    "slideshow": {
     "slide_type": "fragment"
    }
   },
   "outputs": [],
   "source": [
    "print(\"\\n\".join([f\"{word.text:<8}\\t{word.pos:<8}\\t{word.feats}\" for word in doc.sentences[0].words]))"
   ]
  },
  {
   "cell_type": "markdown",
   "metadata": {
    "slideshow": {
     "slide_type": "slide"
    }
   },
   "source": [
    "## Difficulties of POS-tagging"
   ]
  },
  {
   "cell_type": "markdown",
   "metadata": {
    "slideshow": {
     "slide_type": "fragment"
    }
   },
   "source": [
    "_earnings growth took a __back/JJ__ seat_\n",
    "\n",
    "_a small building in the **back/NN**_\n",
    "\n",
    "_a clear majority of senators **back/VBP** the bill_\n",
    "\n",
    "_Dave began to __back/VB__ toward the door_\n",
    "\n",
    "_enable the country to buy __back/RP__ about debt_\n",
    "\n",
    "_I was twenty-one __back/RB__ then_\n",
    "\n",
    "([SLP Ch.8](https://web.stanford.edu/~jurafsky/slp3/8.pdf))"
   ]
  },
  {
   "cell_type": "markdown",
   "metadata": {
    "slideshow": {
     "slide_type": "slide"
    }
   },
   "source": [
    "### Why not implement grammar?"
   ]
  },
  {
   "cell_type": "markdown",
   "metadata": {
    "slideshow": {
     "slide_type": "fragment"
    }
   },
   "source": [
    "- grammar and vocabulary change too fast\n",
    "\n",
    "- resolving ambiguities requires probabilistic reasoning"
   ]
  },
  {
   "cell_type": "markdown",
   "metadata": {
    "slideshow": {
     "slide_type": "slide"
    }
   },
   "source": [
    "| _Time_ | _flies_ | _like_ | _an_ | _arrow_ |\n",
    "| :----- | :------ | :----- | :--- | :------ |\n",
    "| NOUN   | VERB    | ADP    | DET  | NOUN    |"
   ]
  },
  {
   "cell_type": "markdown",
   "metadata": {
    "slideshow": {
     "slide_type": "fragment"
    }
   },
   "source": [
    "| _Time_ | _flies_ | _like_ | _an_ | _arrow_ |\n",
    "| :----- | :------ | :----- | :--- | :------ |\n",
    "| VERB   | NOUN    | ADP    | DET  | NOUN    |"
   ]
  },
  {
   "cell_type": "markdown",
   "metadata": {
    "slideshow": {
     "slide_type": "fragment"
    }
   },
   "source": [
    "| _Time_ | _flies_ | _like_ | _an_ | _arrow_ |\n",
    "| :----- | :------ | :----- | :--- | :------ |\n",
    "| NOUN   | NOUN    | VERB   | DET  | NOUN    |"
   ]
  },
  {
   "cell_type": "markdown",
   "metadata": {
    "slideshow": {
     "slide_type": "fragment"
    }
   },
   "source": [
    "BTW: the second one can still have three interpretations - can you think of all of them (without googling)? "
   ]
  },
  {
   "cell_type": "markdown",
   "metadata": {
    "slideshow": {
     "slide_type": "slide"
    }
   },
   "source": [
    "# Questions?"
   ]
  },
  {
   "cell_type": "markdown",
   "metadata": {
    "slideshow": {
     "slide_type": "fragment"
    }
   },
   "source": [
    "_See the supplementary material in 06b_POS_tagging_HMMs.ipynb on POS-tagging with Hidden Markov Models_"
   ]
  },
  {
   "cell_type": "markdown",
   "metadata": {
    "slideshow": {
     "slide_type": "slide"
    }
   },
   "source": [
    "# Syntactic structure"
   ]
  },
  {
   "cell_type": "markdown",
   "metadata": {
    "slideshow": {
     "slide_type": "slide"
    }
   },
   "source": [
    "## Two perspectives\n",
    "\n",
    "- Constituency structure (SLP3 Ch. [12](https://web.stanford.edu/~jurafsky/slp3/12.pdf))\n",
    "\n",
    "- Dependency structure (SLP3 Ch. [15](https://web.stanford.edu/~jurafsky/slp3/12.pdf))"
   ]
  },
  {
   "cell_type": "markdown",
   "metadata": {
    "slideshow": {
     "slide_type": "slide"
    }
   },
   "source": [
    "# Constituency"
   ]
  },
  {
   "cell_type": "markdown",
   "metadata": {
    "slideshow": {
     "slide_type": "slide"
    }
   },
   "source": [
    "## I shot an elephant in my pyjamas"
   ]
  },
  {
   "cell_type": "code",
   "execution_count": null,
   "metadata": {
    "slideshow": {
     "slide_type": "fragment"
    }
   },
   "outputs": [],
   "source": [
    "doc = stanza_nlp(\"I shot an elephant in my pyjamas\")\n",
    "print(\"\\n\".join([f\"{word.text:<12}{word.pos}\" for word in doc.sentences[0].words]))"
   ]
  },
  {
   "cell_type": "markdown",
   "metadata": {},
   "source": [
    "<br>\n",
    "<br>\n",
    "<br>\n",
    "<br>\n",
    "<br>\n",
    "<br>"
   ]
  },
  {
   "cell_type": "markdown",
   "metadata": {
    "cell_style": "center",
    "slideshow": {
     "slide_type": "slide"
    }
   },
   "source": [
    "![elephant](elephant.jpg)\n",
    "\n",
    "([SLP Ch.13](https://web.stanford.edu/~jurafsky/slp3/13.pdf))"
   ]
  },
  {
   "cell_type": "markdown",
   "metadata": {
    "cell_style": "split",
    "slideshow": {
     "slide_type": "slide"
    }
   },
   "source": [
    "![NP](np2_70.jpg)"
   ]
  },
  {
   "cell_type": "markdown",
   "metadata": {
    "cell_style": "split",
    "slideshow": {
     "slide_type": "fragment"
    }
   },
   "source": [
    "> (NP <br/>\n",
    "> $\\quad$ (DET an) <br/>\n",
    "> $\\quad$ (Nominal <br/>\n",
    "> $\\quad \\quad$ (Nominal <br/>\n",
    "> $\\quad \\quad \\quad$ (NOUN elephant) <br/>\n",
    "> $\\quad \\quad$ ) <br/>\n",
    "> $\\quad$ (PP <br/>\n",
    "> $\\quad \\quad$ (PREP in) <br/>\n",
    "> $\\quad \\quad$ (NP <br/>\n",
    "> $\\quad \\quad \\quad$ (DET my) <br/>\n",
    "> $\\quad \\quad \\quad$ (NOUN pyjamas) <br/>\n",
    "> $\\quad \\quad$ ) <br/>\n",
    "> $\\quad $ ) <br/>\n",
    "> )\n"
   ]
  },
  {
   "cell_type": "markdown",
   "metadata": {
    "cell_style": "center",
    "slideshow": {
     "slide_type": "slide"
    }
   },
   "source": [
    "### NP, PP, etc. are distributional categories. Just like POS-tags!"
   ]
  },
  {
   "cell_type": "markdown",
   "metadata": {
    "cell_style": "center",
    "slideshow": {
     "slide_type": "fragment"
    }
   },
   "source": [
    "(DET an) (NOUN elephant) (PREP in) (DET my) (NOUN pyjamas)\n",
    "\n",
    "(DET two) (NOUN pandas) (PREP behind) (DET his) (NOUN tent)"
   ]
  },
  {
   "cell_type": "markdown",
   "metadata": {
    "cell_style": "center",
    "slideshow": {
     "slide_type": "fragment"
    }
   },
   "source": [
    "(NP I) (VERB shot) (NP an elephant) (PP in my pyjamas)\n",
    "\n",
    "(NP My best friend) (VERB met) (NP two pandas) (PP behind his tent)"
   ]
  },
  {
   "cell_type": "markdown",
   "metadata": {
    "cell_style": "center",
    "slideshow": {
     "slide_type": "fragment"
    }
   },
   "source": [
    "(NP I) (VP shot an elephant in my pyjamas)\n",
    "\n",
    "(NP The guy driving the jeep) (VP fainted)"
   ]
  },
  {
   "cell_type": "markdown",
   "metadata": {
    "slideshow": {
     "slide_type": "slide"
    }
   },
   "source": [
    "## Phrase structure grammars"
   ]
  },
  {
   "cell_type": "markdown",
   "metadata": {
    "slideshow": {
     "slide_type": "slide"
    }
   },
   "source": [
    "```\n",
    "S -> NP VP\n",
    "VP -> VERB (NP)\n",
    "NP -> (DET) NOUN (PP)\n",
    "PP -> PREP NP\n",
    "(...)\n",
    "DET -> (an|the|my|his|...)\n",
    "VERB -> (shot|met|fainted...)\n",
    "PREP -> (in|behind|...)\n",
    "NOUN -> (I|elephant|pyjamas|panda|tent|jeep|guy|...)\n",
    "```\n"
   ]
  },
  {
   "cell_type": "markdown",
   "metadata": {
    "slideshow": {
     "slide_type": "slide"
    }
   },
   "source": [
    "## Probabilistic grammars"
   ]
  },
  {
   "cell_type": "markdown",
   "metadata": {
    "slideshow": {
     "slide_type": "fragment"
    }
   },
   "source": [
    "```\n",
    "NOUN -> I (0.8)\n",
    "NOUN -> elephant (0.1)\n",
    "(...)\n",
    "VP -> VERB (0.2)\n",
    "VP -> VERB NP (0.8)\n",
    "```"
   ]
  },
  {
   "cell_type": "markdown",
   "metadata": {
    "slideshow": {
     "slide_type": "slide"
    }
   },
   "source": [
    "## Constituency parsing"
   ]
  },
  {
   "cell_type": "markdown",
   "metadata": {
    "slideshow": {
     "slide_type": "fragment"
    }
   },
   "source": [
    "Parsing is the task of determining the (most likely) possible derivations of a sentence, given a (probabilistic) grammar"
   ]
  },
  {
   "cell_type": "markdown",
   "metadata": {
    "slideshow": {
     "slide_type": "fragment"
    }
   },
   "source": [
    "### The CKY algorithm"
   ]
  },
  {
   "cell_type": "markdown",
   "metadata": {
    "slideshow": {
     "slide_type": "fragment"
    }
   },
   "source": [
    "See example in [cky.pdf](cky.pdf)"
   ]
  },
  {
   "cell_type": "markdown",
   "metadata": {
    "slideshow": {
     "slide_type": "fragment"
    }
   },
   "source": [
    "See SLP3 Chapters [13](https://web.stanford.edu/~jurafsky/slp3/13.pdf) and [14](https://web.stanford.edu/~jurafsky/slp3/14.pdf) for more."
   ]
  },
  {
   "cell_type": "markdown",
   "metadata": {
    "slideshow": {
     "slide_type": "slide"
    }
   },
   "source": [
    "# Questions?"
   ]
  },
  {
   "cell_type": "markdown",
   "metadata": {
    "slideshow": {
     "slide_type": "slide"
    }
   },
   "source": [
    "# Dependency structure"
   ]
  },
  {
   "cell_type": "markdown",
   "metadata": {
    "cell_style": "split",
    "slideshow": {
     "slide_type": "slide"
    }
   },
   "source": [
    "![dep1](dep1.jpg)\n",
    "![dep2](dep2.jpg)"
   ]
  },
  {
   "cell_type": "markdown",
   "metadata": {
    "cell_style": "split",
    "slideshow": {
     "slide_type": "-"
    }
   },
   "source": [
    "- **NSUBJ**: nominal subject\n",
    "- **OBJ**: object\n",
    "- **DET**: determiner\n",
    "- **OBL**: oblique nominal\n",
    "- **NMOD**: nominal modifier\n",
    "- **POSS**: possessive"
   ]
  },
  {
   "cell_type": "code",
   "execution_count": null,
   "metadata": {
    "slideshow": {
     "slide_type": "slide"
    }
   },
   "outputs": [],
   "source": [
    "doc = stanza_nlp(\"I shot an elephant in my pyjamas\")\n",
    "print(\"\\n\".join([f\"{word.id:<4}{word.text:<12}{word.deprel:<12}{word.head:<8}\" for word in doc.sentences[0].words]))"
   ]
  },
  {
   "cell_type": "markdown",
   "metadata": {
    "slideshow": {
     "slide_type": "slide"
    }
   },
   "source": [
    "## Dependency parsing - approaches"
   ]
  },
  {
   "cell_type": "markdown",
   "metadata": {
    "cell_style": "split",
    "slideshow": {
     "slide_type": "fragment"
    }
   },
   "source": [
    "### Arc-factored parsing\n",
    "- model the likelihood of edges\n",
    "- e.g. how likely is _nmod(elephant, pyjamas)_?\n",
    "- find the dependency graph with the most likely edges"
   ]
  },
  {
   "cell_type": "markdown",
   "metadata": {
    "cell_style": "split",
    "slideshow": {
     "slide_type": "fragment"
    }
   },
   "source": [
    "### Transition-based parsing\n",
    "- build dependency graphs by adding one word at a time\n",
    "- model the likelihood of possible next steps\n",
    "- e.g. should I attach _pyjamas_ to _elephant_ or _shot_?"
   ]
  },
  {
   "cell_type": "markdown",
   "metadata": {
    "slideshow": {
     "slide_type": "slide"
    }
   },
   "source": [
    "# Shift-reduce parsing"
   ]
  },
  {
   "cell_type": "markdown",
   "metadata": {
    "slideshow": {
     "slide_type": "slide"
    }
   },
   "source": [
    "![shiftreduce](shiftreduce.jpg)\n",
    "\n",
    "([SLP Ch.13](https://web.stanford.edu/~jurafsky/slp3/13.pdf))"
   ]
  },
  {
   "cell_type": "markdown",
   "metadata": {
    "slideshow": {
     "slide_type": "slide"
    }
   },
   "source": [
    "## Shift-reduce parsing\n"
   ]
  },
  {
   "cell_type": "markdown",
   "metadata": {
    "slideshow": {
     "slide_type": "fragment"
    }
   },
   "source": [
    "- transition-based approach\n",
    "- processes words one-by-one, in linear order, no backtracking\n",
    "\n",
    "- for each word, choose between:\n",
    "    - **shift**: push the next word on the **stack**\n",
    "    - **reduce**: add a dependency edge between the top two words on the stack, and remove the dependent."
   ]
  },
  {
   "cell_type": "markdown",
   "metadata": {
    "slideshow": {
     "slide_type": "slide"
    }
   },
   "source": [
    "# Shift-reduce example\n",
    "\n",
    "See [shiftreduce.pdf](shiftreduce.pdf)"
   ]
  },
  {
   "cell_type": "markdown",
   "metadata": {
    "slideshow": {
     "slide_type": "slide"
    }
   },
   "source": [
    "## A historical note on the two perspectives"
   ]
  },
  {
   "cell_type": "markdown",
   "metadata": {
    "slideshow": {
     "slide_type": "fragment"
    }
   },
   "source": [
    "### Constituency structure\n",
    "- Origins in **structural linguistics** (F. de Saussure, 1900s and later L. Bloomfield, 1930s)\n",
    "- (The basic ideas actually date back to **Pāṇini** (~500 BCE))\n",
    "- Application of **formal language theory** (e.g. PS grammars) in 1950s (N. Chomsky)\n",
    "- Remains the mainstream perspective in theoretical linguistics (known as **generative grammar**)"
   ]
  },
  {
   "cell_type": "markdown",
   "metadata": {
    "slideshow": {
     "slide_type": "fragment"
    }
   },
   "source": [
    "### Dependency structure\n",
    "- Origins in **Dependency grammar** (Tesnière, 1950s)\n",
    "- (The basic ideas actually date back to **Pāṇini** (~500 BCE))\n",
    "- Widespread use in NLP"
   ]
  },
  {
   "cell_type": "markdown",
   "metadata": {
    "slideshow": {
     "slide_type": "slide"
    }
   },
   "source": [
    "# Questions?"
   ]
  }
 ],
 "metadata": {
  "celltoolbar": "Slideshow",
  "kernelspec": {
   "display_name": "Python 3 (ipykernel)",
   "language": "python",
   "name": "python3"
  },
  "language_info": {
   "codemirror_mode": {
    "name": "ipython",
    "version": 3
   },
   "file_extension": ".py",
   "mimetype": "text/x-python",
   "name": "python",
   "nbconvert_exporter": "python",
   "pygments_lexer": "ipython3",
   "version": "3.7.9"
  }
 },
 "nbformat": 4,
 "nbformat_minor": 4
}
