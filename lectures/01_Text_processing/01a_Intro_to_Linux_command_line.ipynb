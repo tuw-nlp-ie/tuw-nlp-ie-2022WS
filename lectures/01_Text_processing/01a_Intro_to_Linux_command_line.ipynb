{
 "cells": [
  {
   "cell_type": "markdown",
   "metadata": {},
   "source": [
    "# Introduction to the Linux command line\n",
    "\n",
    "### Data-oriented Programming Paradigms,  2021 WS\n",
    "10/12/2021\n",
    "\n",
    "Gábor Recski"
   ]
  },
  {
   "cell_type": "markdown",
   "metadata": {},
   "source": [
    "There's a huge amount of documentation on Linux programming (start e.g. [here](https://tldp.org/index.html)), this is an introduction to only a very small and specific subset."
   ]
  },
  {
   "cell_type": "markdown",
   "metadata": {},
   "source": [
    "The commands below are typically run in a terminal, which is actually the interpreter of a [shell](), such as [bash](), the default shell on most Linux distributions.\n",
    "\n",
    "To run the commands inside this notebook, you need to install the bash kernel for jupyter, e.g. like this:\n",
    "```\n",
    "pip install bash-kernel\n",
    "python -m bash_kernel.install\n",
    "```"
   ]
  },
  {
   "cell_type": "code",
   "execution_count": null,
   "metadata": {},
   "outputs": [],
   "source": [
    "export LC_ALL=C"
   ]
  },
  {
   "cell_type": "markdown",
   "metadata": {},
   "source": [
    "The first command sets an __environment variable__ to control the system __locale__ for this session, this ensures that your language and region settings do not interfere with how some tools such as __sort__ work in the examples below. __You need not understand this for now__, but these are still topics worth getting familiar with:\n",
    "- [locale](https://en.wikipedia.org/wiki/Locale_(computer_software))\n",
    "- [environment variables](https://en.wikipedia.org/wiki/Environment_variable)\n",
    "- [sorting and locale](https://stackoverflow.com/questions/28881/why-doesnt-sort-sort-the-same-on-every-machine)."
   ]
  },
  {
   "cell_type": "markdown",
   "metadata": {},
   "source": [
    "Let's look at the contents of the data directory"
   ]
  },
  {
   "cell_type": "code",
   "execution_count": null,
   "metadata": {},
   "outputs": [],
   "source": [
    "ls -l data"
   ]
  },
  {
   "cell_type": "markdown",
   "metadata": {},
   "source": [
    "`ls` is the name of a program for listing directory contents, `-l` is an **option**. Most programs used in this notebook have dozens of options and you shouldn't expect to learn about all of them at once."
   ]
  },
  {
   "cell_type": "markdown",
   "metadata": {},
   "source": [
    "You can get a summary of what each command does and what paramteres it has using the `man` command"
   ]
  },
  {
   "cell_type": "code",
   "execution_count": null,
   "metadata": {},
   "outputs": [],
   "source": [
    "man ls"
   ]
  },
  {
   "cell_type": "markdown",
   "metadata": {},
   "source": [
    "For example, this command will list the directory contents by file size and also use human-readable numbers for file size:"
   ]
  },
  {
   "cell_type": "code",
   "execution_count": null,
   "metadata": {},
   "outputs": [],
   "source": [
    "ls -lSh data"
   ]
  },
  {
   "cell_type": "markdown",
   "metadata": {},
   "source": [
    "### Day-to-day tasks with pipes"
   ]
  },
  {
   "cell_type": "markdown",
   "metadata": {},
   "source": [
    "##### What jupyter processes am I running?"
   ]
  },
  {
   "cell_type": "code",
   "execution_count": null,
   "metadata": {},
   "outputs": [],
   "source": [
    "ps aux | grep `whoami` | grep jupyter"
   ]
  },
  {
   "cell_type": "markdown",
   "metadata": {},
   "source": [
    "##### What directories are using up all the disk space?"
   ]
  },
  {
   "cell_type": "code",
   "execution_count": null,
   "metadata": {},
   "outputs": [],
   "source": [
    "du -h --max-depth=1 | sort -h"
   ]
  },
  {
   "cell_type": "markdown",
   "metadata": {},
   "source": [
    "### Simple data processing with pipes"
   ]
  },
  {
   "cell_type": "markdown",
   "metadata": {},
   "source": [
    "The file in `data/ta_restaurants_31EU.tsv` contains basic information about restaurants in 31 EU cities, from TripAdvisor. It is based on a [Kaggle dataset](https://www.kaggle.com/damienbeneschi/krakow-ta-restaurans-data-raw)."
   ]
  },
  {
   "cell_type": "markdown",
   "metadata": {},
   "source": [
    "#### What is in the data?"
   ]
  },
  {
   "cell_type": "code",
   "execution_count": null,
   "metadata": {},
   "outputs": [],
   "source": [
    "cat data/ta_restaurants_31EU.tsv | head"
   ]
  },
  {
   "cell_type": "markdown",
   "metadata": {},
   "source": [
    "#### How many restaurants? How many in Vienna? How many in each city?"
   ]
  },
  {
   "cell_type": "code",
   "execution_count": null,
   "metadata": {},
   "outputs": [],
   "source": [
    "cat data/ta_restaurants_31EU.tsv | grep -v '^#' | wc -l"
   ]
  },
  {
   "cell_type": "code",
   "execution_count": null,
   "metadata": {},
   "outputs": [],
   "source": [
    "cat data/ta_restaurants_31EU.tsv | grep -v '^#' | grep 'Vienna' | wc -l"
   ]
  },
  {
   "cell_type": "code",
   "execution_count": null,
   "metadata": {},
   "outputs": [],
   "source": [
    "cat data/ta_restaurants_31EU.tsv | grep -v '^#' | cut -f2 | sort | uniq -c | sort -nr"
   ]
  },
  {
   "cell_type": "markdown",
   "metadata": {},
   "source": [
    "#### What are the top cuisines in the dataset?"
   ]
  },
  {
   "cell_type": "code",
   "execution_count": null,
   "metadata": {},
   "outputs": [],
   "source": [
    "cat data/ta_restaurants_31EU.tsv | grep -v '^#' | cut -f3 | tr '|' '\\n' | sort | uniq -c | sort -nr"
   ]
  },
  {
   "cell_type": "markdown",
   "metadata": {},
   "source": [
    "#### Which are the top-rated restaurants in Vienna?"
   ]
  },
  {
   "cell_type": "code",
   "execution_count": null,
   "metadata": {},
   "outputs": [],
   "source": [
    "cat data/ta_restaurants_31EU.tsv | grep -v '^#' | awk -F$'\\t' '$2 == \"Vienna\"' | sort -t $'\\t' -k4 -gr | head"
   ]
  },
  {
   "cell_type": "markdown",
   "metadata": {},
   "source": [
    "#### OK, how about top-rated cheap restaurants?"
   ]
  },
  {
   "cell_type": "code",
   "execution_count": null,
   "metadata": {},
   "outputs": [],
   "source": [
    "cat data/ta_restaurants_31EU.tsv | grep -v '^#' | awk -F$'\\t' '$2 == \"Vienna\"'  | grep -v '\\$\\$' | sort -t $'\\t' -k4 -gr | head"
   ]
  },
  {
   "cell_type": "markdown",
   "metadata": {},
   "source": [
    "#### How about top-rated, cheap, vegan restaurants?"
   ]
  },
  {
   "cell_type": "code",
   "execution_count": null,
   "metadata": {},
   "outputs": [],
   "source": [
    "cat data/ta_restaurants_31EU.tsv | grep -v '^#' | awk -F$'\\t' '$2 == \"Vienna\"'  |  grep '\\$' | grep -v '\\$\\$' | grep 'Vegan Options' | sort -t $'\\t' -k4 -gr | head"
   ]
  },
  {
   "cell_type": "markdown",
   "metadata": {},
   "source": [
    "#### Finally, filter those with less than 100 reviews"
   ]
  },
  {
   "cell_type": "code",
   "execution_count": null,
   "metadata": {},
   "outputs": [],
   "source": [
    "cat data/ta_restaurants_31EU.tsv | grep -v '^#' | awk -F$'\\t' '$2 == \"Vienna\"'  |  grep '\\$' | grep -v '\\$\\$' | grep 'Vegan Options' | awk -F$'\\t' '$6 >= 100' | sort -t $'\\t' -k4 -gr "
   ]
  }
 ],
 "metadata": {
  "kernelspec": {
   "display_name": "Bash",
   "language": "bash",
   "name": "bash"
  },
  "language_info": {
   "codemirror_mode": "shell",
   "file_extension": ".sh",
   "mimetype": "text/x-sh",
   "name": "bash"
  }
 },
 "nbformat": 4,
 "nbformat_minor": 4
}
